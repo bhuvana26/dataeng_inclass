{
  "nbformat": 4,
  "nbformat_minor": 0,
  "metadata": {
    "colab": {
      "provenance": []
    },
    "kernelspec": {
      "name": "python3",
      "display_name": "Python 3"
    },
    "language_info": {
      "name": "python"
    }
  },
  "cells": [
    {
      "cell_type": "code",
      "execution_count": 4,
      "metadata": {
        "colab": {
          "base_uri": "https://localhost:8080/"
        },
        "id": "udtv35lZ_O16",
        "outputId": "1550bd2f-8572-4dc7-ce39-ea0762923fd8"
      },
      "outputs": [
        {
          "output_type": "stream",
          "name": "stdout",
          "text": [
            "Requirement already satisfied: datetime in /usr/local/lib/python3.10/dist-packages (5.5)\n",
            "Requirement already satisfied: zope.interface in /usr/local/lib/python3.10/dist-packages (from datetime) (6.2)\n",
            "Requirement already satisfied: pytz in /usr/local/lib/python3.10/dist-packages (from datetime) (2023.4)\n",
            "Requirement already satisfied: setuptools in /usr/local/lib/python3.10/dist-packages (from zope.interface->datetime) (67.7.2)\n",
            "Enter city name: Portland\n",
            "Enter the date (in YYYY-MM-DD format): 2024-04-11\n",
            "{'coord': {'lon': -122.6762, 'lat': 45.5234}, 'weather': [{'id': 804, 'main': 'Clouds', 'description': 'overcast clouds', 'icon': '04d'}], 'base': 'stations', 'main': {'temp': 286.39, 'feels_like': 285.36, 'temp_min': 284.6, 'temp_max': 287.86, 'pressure': 1011, 'humidity': 61}, 'visibility': 10000, 'wind': {'speed': 1.79, 'deg': 315, 'gust': 2.68}, 'clouds': {'all': 100}, 'dt': 1712886871, 'sys': {'type': 2, 'id': 2008548, 'country': 'US', 'sunrise': 1712842262, 'sunset': 1712890299}, 'timezone': -25200, 'id': 5746545, 'name': 'Portland', 'cod': 200}\n"
          ]
        }
      ],
      "source": [
        "!pip install datetime\n",
        "import datetime\n",
        "import requests\n",
        "\n",
        "# Set the API endpoint URL\n",
        "url = \"http://api.openweathermap.org/data/2.5/weather?q=\"\n",
        "api_key = \"c0c6108b9156a74bbf1378819bb13382\"\n",
        "city = input(\"Enter city name: \")\n",
        "date_str = input(\"Enter the date (in YYYY-MM-DD format): \")\n",
        "next_class_date = datetime.datetime.strptime(date_str, \"%Y-%m-%d\").date()\n",
        "\n",
        "completeURL = url + city + \"&APPID=\" + api_key\n",
        "response = requests.get(completeURL)\n",
        "\n",
        "data = response.json()\n",
        "print(data)"
      ]
    },
    {
      "cell_type": "code",
      "source": [
        "import requests\n",
        "import json\n",
        "\n",
        "url = \"http://api.openweathermap.org/data/2.5/forecast\"\n",
        "api_key = \"c0c6108b9156a74bbf1378819bb13382\"\n",
        "city = \"Portland\"\n",
        "date = \"2024-04-16\"\n",
        "\n",
        "params = {\n",
        "    \"q\": city,\n",
        "    \"appid\": api_key\n",
        "}\n",
        "response = requests.get(url, params=params)\n",
        "\n",
        "if response.status_code == 200:\n",
        "    data = json.loads(response.text)\n",
        "    for point in data[\"list\"]:\n",
        "        if point[\"dt_txt\"].startswith(date) and \"rain\" in point:\n",
        "            print(f\"It will rain on {date} in {city}.\")\n",
        "            break\n",
        "    else:\n",
        "        print(f\"It will not rain on {date} in {city}.\")\n",
        "else:\n",
        "    print(\"Error: information not found\", response.status_code)\n"
      ],
      "metadata": {
        "colab": {
          "base_uri": "https://localhost:8080/"
        },
        "id": "UhqUbSZ1BtIC",
        "outputId": "efb6e6e8-608a-42b6-b611-4627a4fded3c"
      },
      "execution_count": 7,
      "outputs": [
        {
          "output_type": "stream",
          "name": "stdout",
          "text": [
            "It will rain on 2024-04-16 in Portland.\n"
          ]
        }
      ]
    }
  ]
}
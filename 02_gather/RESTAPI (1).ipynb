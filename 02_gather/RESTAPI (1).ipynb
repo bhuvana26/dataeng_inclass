{
  "nbformat": 4,
  "nbformat_minor": 0,
  "metadata": {
    "colab": {
      "provenance": []
    },
    "kernelspec": {
      "name": "python3",
      "display_name": "Python 3"
    },
    "language_info": {
      "name": "python"
    }
  },
  "cells": [
    {
      "cell_type": "code",
      "execution_count": 1,
      "metadata": {
        "colab": {
          "base_uri": "https://localhost:8080/"
        },
        "id": "udtv35lZ_O16",
        "outputId": "dbe2835d-6ee8-4de9-89c4-f5e5f227d068"
      },
      "outputs": [
        {
          "output_type": "stream",
          "name": "stdout",
          "text": [
            "Enter city name: Portland\n",
            "Enter the date (in YYYY-MM-DD format): 2024-04-12\n",
            "{'coord': {'lon': -122.6762, 'lat': 45.5234}, 'weather': [{'id': 803, 'main': 'Clouds', 'description': 'broken clouds', 'icon': '04d'}], 'base': 'stations', 'main': {'temp': 290.21, 'feels_like': 289.51, 'temp_min': 288.25, 'temp_max': 292, 'pressure': 1007, 'humidity': 59}, 'visibility': 10000, 'wind': {'speed': 4.63, 'deg': 310}, 'clouds': {'all': 75}, 'dt': 1712953847, 'sys': {'type': 2, 'id': 2008548, 'country': 'US', 'sunrise': 1712928554, 'sunset': 1712976777}, 'timezone': -25200, 'id': 5746545, 'name': 'Portland', 'cod': 200}\n"
          ]
        }
      ],
      "source": [
        "import datetime\n",
        "import requests\n",
        "\n",
        "# Set the API endpoint URL\n",
        "url = \"http://api.openweathermap.org/data/2.5/weather?q=\"\n",
        "api_key = \"c0c6108b9156a74bbf1378819bb13382\"\n",
        "city = input(\"Enter city name: \")\n",
        "date_str = input(\"Enter the date (in YYYY-MM-DD format): \")\n",
        "next_class_date = datetime.datetime.strptime(date_str, \"%Y-%m-%d\").date()\n",
        "\n",
        "completeURL = url + city + \"&APPID=\" + api_key\n",
        "response = requests.get(completeURL)\n",
        "\n",
        "data = response.json()\n",
        "print(data)\n"
      ]
    },
    {
      "cell_type": "code",
      "source": [
        "import requests\n",
        "\n",
        "url = \"http://api.openweathermap.org/data/2.5/forecast\"\n",
        "api_key = \"c0c6108b9156a74bbf1378819bb13382\"\n",
        "city = \"Portland\"\n",
        "date = \"2024-04-16\"\n",
        "\n",
        "params = {\"q\": city, \"appid\": api_key}\n",
        "response = requests.get(url, params=params)\n",
        "\n",
        "if response.ok:\n",
        "    data = response.json()\n",
        "    rain_forecast = any(\"rain\" in point for point in data.get(\"list\", []))\n",
        "    if rain_forecast:\n",
        "        print(f\"It will rain on {date} in {city}.\")\n",
        "    else:\n",
        "        print(f\"It will not rain on {date} in {city}.\")\n",
        "else:\n",
        "    print(f\"Error: Information not found. Status code: {response.status_code}\")\n",
        "\n"
      ],
      "metadata": {
        "colab": {
          "base_uri": "https://localhost:8080/"
        },
        "id": "UhqUbSZ1BtIC",
        "outputId": "5b58f518-8605-4dcb-b856-72d79416f3e6"
      },
      "execution_count": 2,
      "outputs": [
        {
          "output_type": "stream",
          "name": "stdout",
          "text": [
            "It will rain on 2024-04-16 in Portland.\n"
          ]
        }
      ]
    }
  ]
}